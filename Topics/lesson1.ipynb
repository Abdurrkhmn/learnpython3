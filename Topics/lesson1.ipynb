{
 "cells": [
  {
   "cell_type": "code",
   "execution_count": 8,
   "metadata": {},
   "outputs": [
    {
     "name": "stdout",
     "output_type": "stream",
     "text": [
      "4.0\n"
     ]
    }
   ],
   "source": [
    "\"\"\"\n",
    "+ for addition (Tambahan)\n",
    "- for subtraction (Kurangan)\n",
    "* for multiplication (Perkalian)\n",
    "/ for division (Pembagian)\n",
    "% for modulus (returns the remainder) \n",
    "** for exponentiation (Pangkat)\n",
    "\"\"\"\n",
    "result = 10 + 30\n",
    "result = 40 - 10\n",
    "result = 50 * 5\n",
    "result = 16 / 4\n",
    "result = 25 % 2\n",
    "result = 5 ** 3\n",
    "##print(isi variablnye)"
   ]
  },
  {
   "cell_type": "code",
   "execution_count": 12,
   "metadata": {},
   "outputs": [
    {
     "name": "stdout",
     "output_type": "stream",
     "text": [
      "120\n"
     ]
    }
   ],
   "source": [
    "\"\"\"(Variabel) Sebuah variabel digunakan untuk menyimpan data yang akan digunakan oleh program. Data ini bisa berupa angka, string, Boolean,\n",
    "daftar, atau beberapa tipe data lainnya, Tanda sama dengan = digunakan untuk menetapkan nilai ke variabel.\"\"\""
   ]
  },
  {
   "cell_type": "code",
   "execution_count": null,
   "metadata": {},
   "outputs": [],
   "source": [
    "\"\"\"(Modulo Operator %)Perhitungan modulo mengembalikan sisa pembagian antara angka pertama dan kedua.\n",
    " Contoh: Hasil ekspresi 4 % 2 akan menghasilkan nilai 0, karena 4 habis dibagi 2 tanpa sisa.\n",
    "Hasil dari ekspresi 7 % 3 akan mengembalikan 1, karena 7 tidak habis dibagi 3, menyisakan sisa 1.\"\"\""
   ]
  },
  {
   "cell_type": "code",
   "execution_count": 16,
   "metadata": {},
   "outputs": [
    {
     "name": "stdout",
     "output_type": "stream",
     "text": [
      "Hello World!\n",
      "100\n",
      "3.14159\n"
     ]
    }
   ],
   "source": [
    "#print() Function\n",
    "print(\"Hello World!\")\n",
    "\n",
    "print(100)\n",
    "\n",
    "pi = 3.14159\n",
    "print(pi)"
   ]
  }
 ],
 "metadata": {
  "kernelspec": {
   "display_name": "Python 3",
   "language": "python",
   "name": "python3"
  },
  "language_info": {
   "codemirror_mode": {
    "name": "ipython",
    "version": 3
   },
   "file_extension": ".py",
   "mimetype": "text/x-python",
   "name": "python",
   "nbconvert_exporter": "python",
   "pygments_lexer": "ipython3",
   "version": "3.10.6"
  },
  "orig_nbformat": 4,
  "vscode": {
   "interpreter": {
    "hash": "369f2c481f4da34e4445cda3fffd2e751bd1c4d706f27375911949ba6bb62e1c"
   }
  }
 },
 "nbformat": 4,
 "nbformat_minor": 2
}
